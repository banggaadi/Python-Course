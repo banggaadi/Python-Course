{
 "cells": [
  {
   "cell_type": "markdown",
   "id": "f2dfb940",
   "metadata": {},
   "source": [
    "### Mapping the tax calculator\n",
    "\n",
    "Now that we've successfully got our tax calculator working, can you apply it to the subtotals below?\n",
    "\n",
    "Should be quick! Thanks!\n",
    "\n",
    "P.S. Don't use a loop!"
   ]
  },
  {
   "cell_type": "code",
   "execution_count": 2,
   "id": "420bf3a9",
   "metadata": {},
   "outputs": [],
   "source": [
    "subtotals = [1799.94, 99.99, 254.95, 29.98, 99.99]"
   ]
  },
  {
   "cell_type": "code",
   "execution_count": 1,
   "id": "87aa0545",
   "metadata": {},
   "outputs": [],
   "source": [
    "from calculator import tax_calculator"
   ]
  },
  {
   "cell_type": "code",
   "execution_count": 3,
   "id": "09e4f5df",
   "metadata": {},
   "outputs": [
    {
     "data": {
      "text/plain": [
       "[[1799.94, 108.0, 1907.94],\n",
       " [99.99, 6.0, 105.99],\n",
       " [254.95, 15.3, 270.25],\n",
       " [29.98, 1.8, 31.78],\n",
       " [99.99, 6.0, 105.99]]"
      ]
     },
     "execution_count": 3,
     "metadata": {},
     "output_type": "execute_result"
    }
   ],
   "source": [
    "[tax_calculator(subtotal) for subtotal in subtotals]"
   ]
  },
  {
   "cell_type": "code",
   "execution_count": null,
   "id": "55ec6e49",
   "metadata": {},
   "outputs": [],
   "source": []
  }
 ],
 "metadata": {
  "kernelspec": {
   "display_name": "Python 3 (ipykernel)",
   "language": "python",
   "name": "python3"
  },
  "language_info": {
   "codemirror_mode": {
    "name": "ipython",
    "version": 3
   },
   "file_extension": ".py",
   "mimetype": "text/x-python",
   "name": "python",
   "nbconvert_exporter": "python",
   "pygments_lexer": "ipython3",
   "version": "3.10.9"
  }
 },
 "nbformat": 4,
 "nbformat_minor": 5
}
