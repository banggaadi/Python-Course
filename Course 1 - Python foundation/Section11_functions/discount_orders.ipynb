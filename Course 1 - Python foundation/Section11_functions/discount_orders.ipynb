{
 "cells": [
  {
   "cell_type": "markdown",
   "id": "2db5877d",
   "metadata": {},
   "source": [
    "### Apply A Special Discount\n",
    "\n",
    "\n",
    "We need to apply a discount for customers who purchased more than 500 dollars worth of product – they’re starting to complain it hasn’t been applied. They need to get 10% off on their orders.\n",
    "\n",
    "\n",
    "Can you quickly apply a discount? Store the new prices in a list called `discounted_subtotals`."
   ]
  },
  {
   "cell_type": "code",
   "execution_count": 1,
   "id": "456c6f28",
   "metadata": {},
   "outputs": [],
   "source": [
    "import numpy as np\n",
    "subtotals = [15.98, 899.97, 799.97, 117.96, 5.99, 599.99]"
   ]
  },
  {
   "cell_type": "code",
   "execution_count": 5,
   "id": "c6a77a4d",
   "metadata": {},
   "outputs": [
    {
     "data": {
      "text/plain": [
       "[15.98, 809.97, 719.97, 117.96, 5.99, 539.99]"
      ]
     },
     "execution_count": 5,
     "metadata": {},
     "output_type": "execute_result"
    }
   ],
   "source": [
    "[subtotal if subtotal < 500 else round(subtotal * 0.9,2) for subtotal in subtotals]\n"
   ]
  },
  {
   "cell_type": "code",
   "execution_count": null,
   "id": "c88f8485",
   "metadata": {},
   "outputs": [],
   "source": []
  }
 ],
 "metadata": {
  "kernelspec": {
   "display_name": "Python 3 (ipykernel)",
   "language": "python",
   "name": "python3"
  },
  "language_info": {
   "codemirror_mode": {
    "name": "ipython",
    "version": 3
   },
   "file_extension": ".py",
   "mimetype": "text/x-python",
   "name": "python",
   "nbconvert_exporter": "python",
   "pygments_lexer": "ipython3",
   "version": "3.10.9"
  }
 },
 "nbformat": 4,
 "nbformat_minor": 5
}
