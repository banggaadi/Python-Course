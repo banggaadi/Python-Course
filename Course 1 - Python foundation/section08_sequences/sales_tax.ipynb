{
 "cells": [
  {
   "cell_type": "markdown",
   "id": "baacb0f7",
   "metadata": {},
   "source": [
    "### Sales Tax\n",
    "\n",
    "We need to calculate the sales taxes for our customer that made three transactions in `multi_order_customers` below.\n",
    "\n",
    "(The customer that made three transactions was customer C00001). Run this cell to create the list."
   ]
  },
  {
   "cell_type": "code",
   "execution_count": 1,
   "id": "917a7e1f",
   "metadata": {},
   "outputs": [],
   "source": [
    "multi_order_customers = [\n",
    "    [1799.94, 29.98, 99.99],\n",
    "    [15.98, 119.99],\n",
    "    [24.99, 24.99],\n",
    "    [649.99, 99.99],\n",
    "    [599.99, 399.97]\n",
    "]"
   ]
  },
  {
   "cell_type": "markdown",
   "id": "24d3b042",
   "metadata": {},
   "source": [
    "Create a tuple from the first element in the `multi_order_customers`.\n",
    "\n",
    "Unpack this tuple into the variables `transaction1`, `transaction2`, and `transaction3`.\n",
    "\n",
    "Once you've have separated the transactions, calculate the tax of .08 rounded to 2 decimals and print it."
   ]
  },
  {
   "cell_type": "code",
   "execution_count": 10,
   "id": "01a35ffc",
   "metadata": {},
   "outputs": [],
   "source": [
    "transaction1 = (multi_order_customers[0][0], multi_order_customers[1][0], multi_order_customers[2][0], multi_order_customers[3][0], multi_order_customers[4][0])\n",
    "transaction2 = (multi_order_customers[0][1], multi_order_customers[1][1], multi_order_customers[2][1], multi_order_customers[3][1], multi_order_customers[4][1])\n",
    "transaction3 = (multi_order_customers[0][2])"
   ]
  },
  {
   "cell_type": "code",
   "execution_count": 22,
   "id": "5d429089",
   "metadata": {},
   "outputs": [],
   "source": [
    "sales_tax1 = 0\n",
    "sales_tax2 = 0\n",
    "sales_tax3 = 0\n",
    "for i in transaction1:\n",
    "    temp = 0\n",
    "    temp = i * 0.08\n",
    "    sales_tax1 += temp\n",
    "for i in transaction2:\n",
    "    temp = 0\n",
    "    temp = i * 0.08\n",
    "    sales_tax2 += temp\n"
   ]
  },
  {
   "cell_type": "code",
   "execution_count": 24,
   "id": "c61e6674",
   "metadata": {},
   "outputs": [
    {
     "data": {
      "text/plain": [
       "0"
      ]
     },
     "execution_count": 24,
     "metadata": {},
     "output_type": "execute_result"
    }
   ],
   "source": [
    "round(sales_tax3, 2)"
   ]
  },
  {
   "cell_type": "code",
   "execution_count": null,
   "id": "bb9025f4",
   "metadata": {},
   "outputs": [],
   "source": []
  }
 ],
 "metadata": {
  "kernelspec": {
   "display_name": "Python 3 (ipykernel)",
   "language": "python",
   "name": "python3"
  },
  "language_info": {
   "codemirror_mode": {
    "name": "ipython",
    "version": 3
   },
   "file_extension": ".py",
   "mimetype": "text/x-python",
   "name": "python",
   "nbconvert_exporter": "python",
   "pygments_lexer": "ipython3",
   "version": "3.10.9"
  }
 },
 "nbformat": 4,
 "nbformat_minor": 5
}
