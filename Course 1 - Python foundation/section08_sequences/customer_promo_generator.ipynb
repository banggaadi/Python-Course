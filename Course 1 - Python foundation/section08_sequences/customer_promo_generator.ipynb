{
 "cells": [
  {
   "cell_type": "markdown",
   "id": "f6e713d4",
   "metadata": {},
   "source": [
    "### Customer Promos\n",
    "\n",
    "We're working on some fun promotional giveaways for our next big sale.\n",
    "\n",
    "We want to generate a few different sequences of lucky numbers - customers who get lucky will receive a keychain, coffee mug, or beanie!\n",
    "\n",
    "Coffee mugs will be given to even numbered vistors in our first 10 visitors, please generate a sequence of even integers between 1 and 10."
   ]
  },
  {
   "cell_type": "code",
   "execution_count": 9,
   "id": "8abd6ea5",
   "metadata": {},
   "outputs": [
    {
     "name": "stdout",
     "output_type": "stream",
     "text": [
      "0 2 4 6 8 10 "
     ]
    }
   ],
   "source": [
    "even = range(0,12,2)\n",
    "for n in even:\n",
    "    print(n, end=' ')"
   ]
  },
  {
   "cell_type": "markdown",
   "id": "c0c04fca",
   "metadata": {},
   "source": [
    "Now generate a sequence of odd integers from 1 and 10. They'll get keychains."
   ]
  },
  {
   "cell_type": "code",
   "execution_count": 11,
   "id": "723ef9ed",
   "metadata": {},
   "outputs": [
    {
     "name": "stdout",
     "output_type": "stream",
     "text": [
      "1 3 5 7 9 "
     ]
    }
   ],
   "source": [
    "odd = range(1,11,2)\n",
    "for n in odd:\n",
    "    print(n, end=' ')"
   ]
  },
  {
   "cell_type": "markdown",
   "id": "ce7e0d0c",
   "metadata": {},
   "source": [
    "Finally, every 7th customer in our first 100 vistors will receive a beanie.\n",
    "\n",
    "Generate a sequence of integers containing multiples of 7 from 1 to 100. "
   ]
  },
  {
   "cell_type": "code",
   "execution_count": 13,
   "id": "f04f2043",
   "metadata": {},
   "outputs": [
    {
     "name": "stdout",
     "output_type": "stream",
     "text": [
      "7 14 21 28 35 42 49 56 63 70 77 84 91 98 "
     ]
    }
   ],
   "source": [
    "seventh = range(7,100,7)\n",
    "for n in seventh:\n",
    "    print(n, end=' ')"
   ]
  },
  {
   "cell_type": "code",
   "execution_count": null,
   "id": "78278ba1",
   "metadata": {},
   "outputs": [],
   "source": []
  }
 ],
 "metadata": {
  "kernelspec": {
   "display_name": "Python 3 (ipykernel)",
   "language": "python",
   "name": "python3"
  },
  "language_info": {
   "codemirror_mode": {
    "name": "ipython",
    "version": 3
   },
   "file_extension": ".py",
   "mimetype": "text/x-python",
   "name": "python",
   "nbconvert_exporter": "python",
   "pygments_lexer": "ipython3",
   "version": "3.10.9"
  }
 },
 "nbformat": 4,
 "nbformat_minor": 5
}
