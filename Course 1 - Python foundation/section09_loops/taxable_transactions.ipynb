{
 "cells": [
  {
   "cell_type": "markdown",
   "id": "d5858f7d",
   "metadata": {},
   "source": [
    "### Applying Sales Tax\n",
    "\n",
    "Last weekend our system went down and we didn't have a calculator on site, so we told customers we'd charge them for tax later. \n",
    "\n",
    "The transactions are below."
   ]
  },
  {
   "cell_type": "code",
   "execution_count": 2,
   "id": "ecf7bfd9",
   "metadata": {},
   "outputs": [],
   "source": [
    "subtotals = [15.98, 899.97, 799.97, 117.96, 5.99, 599.99, 24.99, 1799.94, 99.99]"
   ]
  },
  {
   "cell_type": "markdown",
   "id": "e30ee503",
   "metadata": {},
   "source": [
    "Can you apply sales tax to all of the transactions?\n",
    "\n",
    "The tax rate is 8%. \n",
    "\n",
    "Once we've calculated the taxes, we'll need to add them to their subtotals and calculate the the total invoice value.\n",
    "\n",
    "Your code should produce two lists.\n",
    "\n",
    "* `taxes`:The first should be a list of the tax amounts on each transaction, rounded to the nearest .01.\n",
    "\n",
    "* `totals`: The second should be a list where each element is subtotal[i] + tax[i]"
   ]
  },
  {
   "cell_type": "code",
   "execution_count": 5,
   "id": "70a25441",
   "metadata": {},
   "outputs": [],
   "source": [
    "taxes = []\n",
    "totals = []\n",
    "\n",
    "# This is code Stuart used to calculate the tax and total\n",
    "# for a single subtotal, can you put them in a loop?\n",
    "for i in subtotals:\n",
    "    temp = 0\n",
    "    temp = round(i * 0.08, 2)\n",
    "    taxes.append(temp)\n",
    "\n",
    "for i in subtotals:\n",
    "    j = 0\n",
    "    total = round(i + taxes[j], 2)\n",
    "    totals.append(total)\n",
    "    j += 1\n",
    "    \n"
   ]
  },
  {
   "cell_type": "code",
   "execution_count": 7,
   "id": "b95bef54",
   "metadata": {},
   "outputs": [
    {
     "data": {
      "text/plain": [
       "[17.26, 901.25, 801.25, 119.24, 7.27, 601.27, 26.27, 1801.22, 101.27]"
      ]
     },
     "execution_count": 7,
     "metadata": {},
     "output_type": "execute_result"
    }
   ],
   "source": [
    "totals"
   ]
  },
  {
   "cell_type": "code",
   "execution_count": null,
   "id": "f34c8d44",
   "metadata": {},
   "outputs": [],
   "source": []
  }
 ],
 "metadata": {
  "kernelspec": {
   "display_name": "Python 3 (ipykernel)",
   "language": "python",
   "name": "python3"
  },
  "language_info": {
   "codemirror_mode": {
    "name": "ipython",
    "version": 3
   },
   "file_extension": ".py",
   "mimetype": "text/x-python",
   "name": "python",
   "nbconvert_exporter": "python",
   "pygments_lexer": "ipython3",
   "version": "3.10.9"
  }
 },
 "nbformat": 4,
 "nbformat_minor": 5
}
