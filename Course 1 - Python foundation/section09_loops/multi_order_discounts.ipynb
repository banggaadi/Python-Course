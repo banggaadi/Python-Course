{
 "cells": [
  {
   "cell_type": "markdown",
   "id": "8d0a6882",
   "metadata": {},
   "source": [
    "### Apply Discounts for Multi-Order Customers\n",
    "\n",
    "We need to apply a 10% discount to every transaction in the list below.\n",
    "\n",
    "Assign the discounted transactions to a new list: `discounted_prices`."
   ]
  },
  {
   "cell_type": "code",
   "execution_count": 2,
   "id": "c8e8c4ee",
   "metadata": {},
   "outputs": [
    {
     "data": {
      "text/plain": [
       "[[1799.94, 29.98, 99.99],\n",
       " [15.98, 119.99],\n",
       " [24.99, 24.99],\n",
       " [649.99, 99.99],\n",
       " [599.99, 399.97]]"
      ]
     },
     "execution_count": 2,
     "metadata": {},
     "output_type": "execute_result"
    }
   ],
   "source": [
    "orders_c00001 = [1799.94, 29.98, 99.99]\n",
    "orders_c00004 = [15.98, 119.99]\n",
    "orders_c00006 = [24.99, 24.99]\n",
    "orders_c00008 = [649.99, 99.99]\n",
    "orders_c00010 = [599.99, 399.97]\n",
    "\n",
    "multi_order_customers = [\n",
    "    [1799.94, 29.98, 99.99],\n",
    "    [15.98, 119.99],\n",
    "    [24.99, 24.99],\n",
    "    [649.99, 99.99],\n",
    "    [599.99, 399.97]\n",
    "]\n",
    "\n",
    "multi_order_customers"
   ]
  },
  {
   "cell_type": "code",
   "execution_count": 11,
   "id": "274b47ee",
   "metadata": {
    "scrolled": true
   },
   "outputs": [],
   "source": [
    "discounted_prices = []\n",
    "for i in multi_order_customers:\n",
    "    for j in range(len(i)):\n",
    "        disc = 0\n",
    "        disc = i[j] * 0.9\n",
    "        discounted_prices.append(disc)"
   ]
  },
  {
   "cell_type": "code",
   "execution_count": 12,
   "id": "9e11a641",
   "metadata": {},
   "outputs": [
    {
     "data": {
      "text/plain": [
       "[1619.9460000000001,\n",
       " 26.982,\n",
       " 89.991,\n",
       " 14.382000000000001,\n",
       " 107.991,\n",
       " 22.491,\n",
       " 22.491,\n",
       " 584.991,\n",
       " 89.991,\n",
       " 539.991,\n",
       " 359.973]"
      ]
     },
     "execution_count": 12,
     "metadata": {},
     "output_type": "execute_result"
    }
   ],
   "source": [
    "discounted_prices"
   ]
  },
  {
   "cell_type": "code",
   "execution_count": 13,
   "id": "1e6356b7",
   "metadata": {},
   "outputs": [
    {
     "data": {
      "text/plain": [
       "[[1799.94, 29.98, 99.99],\n",
       " [15.98, 119.99],\n",
       " [24.99, 24.99],\n",
       " [649.99, 99.99],\n",
       " [599.99, 399.97]]"
      ]
     },
     "execution_count": 13,
     "metadata": {},
     "output_type": "execute_result"
    }
   ],
   "source": [
    "multi_order_customers"
   ]
  },
  {
   "cell_type": "code",
   "execution_count": null,
   "id": "98b39dd9",
   "metadata": {},
   "outputs": [],
   "source": []
  }
 ],
 "metadata": {
  "kernelspec": {
   "display_name": "Python 3 (ipykernel)",
   "language": "python",
   "name": "python3"
  },
  "language_info": {
   "codemirror_mode": {
    "name": "ipython",
    "version": 3
   },
   "file_extension": ".py",
   "mimetype": "text/x-python",
   "name": "python",
   "nbconvert_exporter": "python",
   "pygments_lexer": "ipython3",
   "version": "3.10.9"
  }
 },
 "nbformat": 4,
 "nbformat_minor": 5
}
