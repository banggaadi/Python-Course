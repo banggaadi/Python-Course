{
 "cells": [
  {
   "cell_type": "markdown",
   "id": "c6a1d267",
   "metadata": {},
   "source": [
    "### Inventory Message\n",
    "\n",
    "Let's add and out of stock flag to our products. \n",
    " \n",
    "* If inventory is negative or 0, print 'OUT OF STOCK'. \n",
    "* If inventory is greater than 0, and less than or equal to 5, print 'Low Stock'. \n",
    "* If inventory is anything else, print 'In Stock'"
   ]
  },
  {
   "cell_type": "code",
   "execution_count": 14,
   "id": "c8ff8eb8",
   "metadata": {},
   "outputs": [],
   "source": [
    "inventory = 4 "
   ]
  },
  {
   "cell_type": "code",
   "execution_count": 15,
   "id": "c9255784",
   "metadata": {},
   "outputs": [
    {
     "name": "stdout",
     "output_type": "stream",
     "text": [
      "Low stock\n"
     ]
    }
   ],
   "source": [
    "if inventory <= 5:\n",
    "    print('Low stock')\n",
    "else:\n",
    "    print('In stock')"
   ]
  },
  {
   "cell_type": "code",
   "execution_count": null,
   "id": "90611444",
   "metadata": {},
   "outputs": [],
   "source": []
  }
 ],
 "metadata": {
  "kernelspec": {
   "display_name": "Python 3 (ipykernel)",
   "language": "python",
   "name": "python3"
  },
  "language_info": {
   "codemirror_mode": {
    "name": "ipython",
    "version": 3
   },
   "file_extension": ".py",
   "mimetype": "text/x-python",
   "name": "python",
   "nbconvert_exporter": "python",
   "pygments_lexer": "ipython3",
   "version": "3.10.9"
  }
 },
 "nbformat": 4,
 "nbformat_minor": 5
}
